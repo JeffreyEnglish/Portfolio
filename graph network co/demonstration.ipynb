{
 "cells": [
  {
   "cell_type": "code",
   "execution_count": null,
   "metadata": {},
   "outputs": [],
   "source": [
    "from mwis_solution import GCN, train_gcn, mis_search\n",
    "from data_creation import create_er_dataset\n",
    "from dgl.dataloading import GraphDataLoader\n",
    "import torch"
   ]
  },
  {
   "cell_type": "code",
   "execution_count": null,
   "metadata": {},
   "outputs": [],
   "source": [
    "# Create some sample problems\n",
    "train_data = create_er_dataset(200, 50, solver='networkx', weighted=True)\n",
    "evaluation_data = create_er_dataset(1, 150, solver='networkx', weighted=True)\n",
    "\n",
    "# Fit a graph neural network to these problems\n",
    "net = GCN(in_feats=2, hidden_size=32)\n",
    "optimizer = torch.optim.AdamW(net.parameters(), lr=5e-3)\n",
    "\n",
    "dataset_size = len(train_data)\n",
    "gdl = GraphDataLoader([train_data[x]['dgl_graph'] for x in range(int(dataset_size*0.8))], batch_size=80)\n",
    "gdl_te = GraphDataLoader([train_data[x]['dgl_graph'] for x in range(int(dataset_size*0.8),dataset_size)], \n",
    "                         batch_size=min(int(dataset_size*0.2),100))\n",
    "\n",
    "train_gcn(net, gdl, gdl_te, optimizer, 200)"
   ]
  },
  {
   "cell_type": "code",
   "execution_count": null,
   "metadata": {},
   "outputs": [],
   "source": [
    "# Evaluate on a new graph\n",
    "evaluation_graph = evaluation_data[0]['dgl_graph']\n",
    "print(f\"Previous MWIS: {evaluation_data[0]['mwis']}\")\n",
    "max_mwis, sol, _ = mis_search(evaluation_graph, net, time_limit=10.0, passes=2, verbose=True, p_best=6)\n",
    "\n",
    "# Check the solution and it's feasibility\n",
    "print(f\"MWIS: {max_mwis}, feasibility {sol.check_solution_feasibility()}\")"
   ]
  }
 ],
 "metadata": {
  "kernelspec": {
   "display_name": "dgl",
   "language": "python",
   "name": "python3"
  },
  "language_info": {
   "codemirror_mode": {
    "name": "ipython",
    "version": 3
   },
   "file_extension": ".py",
   "mimetype": "text/x-python",
   "name": "python",
   "nbconvert_exporter": "python",
   "pygments_lexer": "ipython3",
   "version": "3.10.14"
  }
 },
 "nbformat": 4,
 "nbformat_minor": 2
}
